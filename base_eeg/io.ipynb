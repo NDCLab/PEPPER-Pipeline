{
 "metadata": {
  "language_info": {
   "codemirror_mode": {
    "name": "ipython",
    "version": 3
   },
   "file_extension": ".py",
   "mimetype": "text/x-python",
   "name": "python",
   "nbconvert_exporter": "python",
   "pygments_lexer": "ipython3",
   "version": "3.8.5-final"
  },
  "orig_nbformat": 2,
  "kernelspec": {
   "name": "python3",
   "display_name": "Python 3.8.5 64-bit",
   "metadata": {
    "interpreter": {
     "hash": "31f2aee4e71d21fbe5cf8b01ff0e069b9275f58929596ceb00d14d90e3e16cd6"
    }
   }
  }
 },
 "nbformat": 4,
 "nbformat_minor": 2,
 "cells": [
  {
   "cell_type": "code",
   "execution_count": 1,
   "metadata": {},
   "outputs": [],
   "source": [
    "\"\"\"\n",
    "import essential libraries for preprocessing io \n",
    "\"\"\"\n",
    "import mne \n",
    "import preprocessing\n",
    "from mne_bids import BIDSPath, write_raw_bids\n",
    "import argparse, sys, os "
   ]
  },
  {
   "cell_type": "code",
   "execution_count": 2,
   "metadata": {},
   "outputs": [
    {
     "output_type": "stream",
     "name": "stdout",
     "text": [
      "Reading EGI MFF Header from NDA1.mff...\n"
     ]
    },
    {
     "output_type": "error",
     "ename": "FileNotFoundError",
     "evalue": "[Errno 2] No such file or directory: 'NDA1.mff'",
     "traceback": [
      "\u001b[0;31m---------------------------------------------------------------------------\u001b[0m",
      "\u001b[0;31mFileNotFoundError\u001b[0m                         Traceback (most recent call last)",
      "\u001b[0;32m<ipython-input-2-cfb136387285>\u001b[0m in \u001b[0;36m<module>\u001b[0;34m\u001b[0m\n\u001b[1;32m      4\u001b[0m \"\"\"\n\u001b[1;32m      5\u001b[0m \u001b[0mfname\u001b[0m \u001b[0;34m=\u001b[0m \u001b[0;34m\"NDA1.mff\"\u001b[0m\u001b[0;34m\u001b[0m\u001b[0;34m\u001b[0m\u001b[0m\n\u001b[0;32m----> 6\u001b[0;31m \u001b[0mraw\u001b[0m \u001b[0;34m=\u001b[0m \u001b[0mpreprocessing\u001b[0m\u001b[0;34m.\u001b[0m\u001b[0mread_raw\u001b[0m\u001b[0;34m(\u001b[0m\u001b[0mfname\u001b[0m\u001b[0;34m)\u001b[0m\u001b[0;34m\u001b[0m\u001b[0;34m\u001b[0m\u001b[0m\n\u001b[0m\u001b[1;32m      7\u001b[0m \u001b[0mraw\u001b[0m\u001b[0;34m.\u001b[0m\u001b[0mplot\u001b[0m\u001b[0;34m(\u001b[0m\u001b[0;34m)\u001b[0m\u001b[0;34m\u001b[0m\u001b[0;34m\u001b[0m\u001b[0m\n\u001b[1;32m      8\u001b[0m \u001b[0mprint\u001b[0m\u001b[0;34m(\u001b[0m\u001b[0;34m'\\n\\n'\u001b[0m\u001b[0;34m)\u001b[0m\u001b[0;34m\u001b[0m\u001b[0;34m\u001b[0m\u001b[0m\n",
      "\u001b[0;32m~/baseEEG/base_eeg/preprocessing.py\u001b[0m in \u001b[0;36mread_raw\u001b[0;34m(fname)\u001b[0m\n\u001b[1;32m     13\u001b[0m     \u001b[0m_\u001b[0m\u001b[0;34m,\u001b[0m \u001b[0mext\u001b[0m \u001b[0;34m=\u001b[0m \u001b[0mos\u001b[0m\u001b[0;34m.\u001b[0m\u001b[0mpath\u001b[0m\u001b[0;34m.\u001b[0m\u001b[0msplitext\u001b[0m\u001b[0;34m(\u001b[0m\u001b[0mfname\u001b[0m\u001b[0;34m)\u001b[0m\u001b[0;34m\u001b[0m\u001b[0;34m\u001b[0m\u001b[0m\n\u001b[1;32m     14\u001b[0m     \u001b[0;32mif\u001b[0m\u001b[0;34m(\u001b[0m\u001b[0mext\u001b[0m \u001b[0;34m==\u001b[0m \u001b[0;34m\".mff\"\u001b[0m\u001b[0;34m)\u001b[0m\u001b[0;34m:\u001b[0m\u001b[0;34m\u001b[0m\u001b[0;34m\u001b[0m\u001b[0m\n\u001b[0;32m---> 15\u001b[0;31m         \u001b[0mraw\u001b[0m \u001b[0;34m=\u001b[0m \u001b[0mmne\u001b[0m\u001b[0;34m.\u001b[0m\u001b[0mio\u001b[0m\u001b[0;34m.\u001b[0m\u001b[0mread_raw_egi\u001b[0m\u001b[0;34m(\u001b[0m\u001b[0mfname\u001b[0m\u001b[0;34m,\u001b[0m \u001b[0mpreload\u001b[0m\u001b[0;34m=\u001b[0m\u001b[0;32mTrue\u001b[0m\u001b[0;34m,\u001b[0m \u001b[0mverbose\u001b[0m\u001b[0;34m=\u001b[0m\u001b[0;32mTrue\u001b[0m\u001b[0;34m)\u001b[0m\u001b[0;34m\u001b[0m\u001b[0;34m\u001b[0m\u001b[0m\n\u001b[0m\u001b[1;32m     16\u001b[0m         \u001b[0mraw\u001b[0m\u001b[0;34m.\u001b[0m\u001b[0msave\u001b[0m\u001b[0;34m(\u001b[0m\u001b[0;34m\"raw.fif\"\u001b[0m\u001b[0;34m,\u001b[0m \u001b[0moverwrite\u001b[0m\u001b[0;34m=\u001b[0m\u001b[0;32mTrue\u001b[0m\u001b[0;34m)\u001b[0m\u001b[0;34m\u001b[0m\u001b[0;34m\u001b[0m\u001b[0m\n\u001b[1;32m     17\u001b[0m         \u001b[0;32mreturn\u001b[0m \u001b[0mmne\u001b[0m\u001b[0;34m.\u001b[0m\u001b[0mio\u001b[0m\u001b[0;34m.\u001b[0m\u001b[0mread_raw\u001b[0m\u001b[0;34m(\u001b[0m\u001b[0;34m\"raw.fif\"\u001b[0m\u001b[0;34m)\u001b[0m\u001b[0;34m\u001b[0m\u001b[0;34m\u001b[0m\u001b[0m\n",
      "\u001b[0;32m<decorator-gen-192>\u001b[0m in \u001b[0;36mread_raw_egi\u001b[0;34m(input_fname, eog, misc, include, exclude, preload, channel_naming, verbose)\u001b[0m\n",
      "\u001b[0;32m/usr/local/lib/python3.8/dist-packages/mne/io/egi/egi.py\u001b[0m in \u001b[0;36mread_raw_egi\u001b[0;34m(input_fname, eog, misc, include, exclude, preload, channel_naming, verbose)\u001b[0m\n\u001b[1;32m    149\u001b[0m     \"\"\"\n\u001b[1;32m    150\u001b[0m     \u001b[0;32mif\u001b[0m \u001b[0minput_fname\u001b[0m\u001b[0;34m.\u001b[0m\u001b[0mendswith\u001b[0m\u001b[0;34m(\u001b[0m\u001b[0;34m'.mff'\u001b[0m\u001b[0;34m)\u001b[0m\u001b[0;34m:\u001b[0m\u001b[0;34m\u001b[0m\u001b[0;34m\u001b[0m\u001b[0m\n\u001b[0;32m--> 151\u001b[0;31m         return _read_raw_egi_mff(input_fname, eog, misc, include,\n\u001b[0m\u001b[1;32m    152\u001b[0m                                  exclude, preload, channel_naming, verbose)\n\u001b[1;32m    153\u001b[0m     return RawEGI(input_fname, eog, misc, include, exclude, preload,\n",
      "\u001b[0;32m<decorator-gen-189>\u001b[0m in \u001b[0;36m_read_raw_egi_mff\u001b[0;34m(input_fname, eog, misc, include, exclude, preload, channel_naming, verbose)\u001b[0m\n",
      "\u001b[0;32m/usr/local/lib/python3.8/dist-packages/mne/io/egi/egimff.py\u001b[0m in \u001b[0;36m_read_raw_egi_mff\u001b[0;34m(input_fname, eog, misc, include, exclude, preload, channel_naming, verbose)\u001b[0m\n\u001b[1;32m    352\u001b[0m     \u001b[0;34m.\u001b[0m\u001b[0;34m.\u001b[0m \u001b[0mversionadded\u001b[0m\u001b[0;34m:\u001b[0m\u001b[0;34m:\u001b[0m \u001b[0;36m0.15\u001b[0m\u001b[0;36m.0\u001b[0m\u001b[0;34m\u001b[0m\u001b[0;34m\u001b[0m\u001b[0m\n\u001b[1;32m    353\u001b[0m     \"\"\"\n\u001b[0;32m--> 354\u001b[0;31m     return RawMff(input_fname, eog, misc, include, exclude,\n\u001b[0m\u001b[1;32m    355\u001b[0m                   preload, channel_naming, verbose)\n\u001b[1;32m    356\u001b[0m \u001b[0;34m\u001b[0m\u001b[0m\n",
      "\u001b[0;32m<decorator-gen-190>\u001b[0m in \u001b[0;36m__init__\u001b[0;34m(self, input_fname, eog, misc, include, exclude, preload, channel_naming, verbose)\u001b[0m\n",
      "\u001b[0;32m/usr/local/lib/python3.8/dist-packages/mne/io/egi/egimff.py\u001b[0m in \u001b[0;36m__init__\u001b[0;34m(self, input_fname, eog, misc, include, exclude, preload, channel_naming, verbose)\u001b[0m\n\u001b[1;32m    365\u001b[0m         \u001b[0;34m\"\"\"Init the RawMff class.\"\"\"\u001b[0m\u001b[0;34m\u001b[0m\u001b[0;34m\u001b[0m\u001b[0m\n\u001b[1;32m    366\u001b[0m         \u001b[0mlogger\u001b[0m\u001b[0;34m.\u001b[0m\u001b[0minfo\u001b[0m\u001b[0;34m(\u001b[0m\u001b[0;34m'Reading EGI MFF Header from %s...'\u001b[0m \u001b[0;34m%\u001b[0m \u001b[0minput_fname\u001b[0m\u001b[0;34m)\u001b[0m\u001b[0;34m\u001b[0m\u001b[0;34m\u001b[0m\u001b[0m\n\u001b[0;32m--> 367\u001b[0;31m         \u001b[0megi_info\u001b[0m \u001b[0;34m=\u001b[0m \u001b[0m_read_header\u001b[0m\u001b[0;34m(\u001b[0m\u001b[0minput_fname\u001b[0m\u001b[0;34m)\u001b[0m\u001b[0;34m\u001b[0m\u001b[0;34m\u001b[0m\u001b[0m\n\u001b[0m\u001b[1;32m    368\u001b[0m         \u001b[0;32mif\u001b[0m \u001b[0meog\u001b[0m \u001b[0;32mis\u001b[0m \u001b[0;32mNone\u001b[0m\u001b[0;34m:\u001b[0m\u001b[0;34m\u001b[0m\u001b[0;34m\u001b[0m\u001b[0m\n\u001b[1;32m    369\u001b[0m             \u001b[0meog\u001b[0m \u001b[0;34m=\u001b[0m \u001b[0;34m[\u001b[0m\u001b[0;34m]\u001b[0m\u001b[0;34m\u001b[0m\u001b[0;34m\u001b[0m\u001b[0m\n",
      "\u001b[0;32m/usr/local/lib/python3.8/dist-packages/mne/io/egi/egimff.py\u001b[0m in \u001b[0;36m_read_header\u001b[0;34m(input_fname)\u001b[0m\n\u001b[1;32m    206\u001b[0m         \u001b[0mMain\u001b[0m \u001b[0mheaders\u001b[0m \u001b[0mset\u001b[0m\u001b[0;34m.\u001b[0m\u001b[0;34m\u001b[0m\u001b[0;34m\u001b[0m\u001b[0m\n\u001b[1;32m    207\u001b[0m     \"\"\"\n\u001b[0;32m--> 208\u001b[0;31m     \u001b[0mmff_hdr\u001b[0m \u001b[0;34m=\u001b[0m \u001b[0m_read_mff_header\u001b[0m\u001b[0;34m(\u001b[0m\u001b[0minput_fname\u001b[0m\u001b[0;34m)\u001b[0m\u001b[0;34m\u001b[0m\u001b[0;34m\u001b[0m\u001b[0m\n\u001b[0m\u001b[1;32m    209\u001b[0m     \u001b[0;32mwith\u001b[0m \u001b[0mopen\u001b[0m\u001b[0;34m(\u001b[0m\u001b[0minput_fname\u001b[0m \u001b[0;34m+\u001b[0m \u001b[0;34m'/signal1.bin'\u001b[0m\u001b[0;34m,\u001b[0m \u001b[0;34m'rb'\u001b[0m\u001b[0;34m)\u001b[0m \u001b[0;32mas\u001b[0m \u001b[0mfid\u001b[0m\u001b[0;34m:\u001b[0m\u001b[0;34m\u001b[0m\u001b[0;34m\u001b[0m\u001b[0m\n\u001b[1;32m    210\u001b[0m         \u001b[0mversion\u001b[0m \u001b[0;34m=\u001b[0m \u001b[0mnp\u001b[0m\u001b[0;34m.\u001b[0m\u001b[0mfromfile\u001b[0m\u001b[0;34m(\u001b[0m\u001b[0mfid\u001b[0m\u001b[0;34m,\u001b[0m \u001b[0mnp\u001b[0m\u001b[0;34m.\u001b[0m\u001b[0mint32\u001b[0m\u001b[0;34m,\u001b[0m \u001b[0;36m1\u001b[0m\u001b[0;34m)\u001b[0m\u001b[0;34m[\u001b[0m\u001b[0;36m0\u001b[0m\u001b[0;34m]\u001b[0m\u001b[0;34m\u001b[0m\u001b[0;34m\u001b[0m\u001b[0m\n",
      "\u001b[0;32m/usr/local/lib/python3.8/dist-packages/mne/io/egi/egimff.py\u001b[0m in \u001b[0;36m_read_mff_header\u001b[0;34m(filepath)\u001b[0m\n\u001b[1;32m     25\u001b[0m \u001b[0;32mdef\u001b[0m \u001b[0m_read_mff_header\u001b[0m\u001b[0;34m(\u001b[0m\u001b[0mfilepath\u001b[0m\u001b[0;34m)\u001b[0m\u001b[0;34m:\u001b[0m\u001b[0;34m\u001b[0m\u001b[0;34m\u001b[0m\u001b[0m\n\u001b[1;32m     26\u001b[0m     \u001b[0;34m\"\"\"Read mff header.\"\"\"\u001b[0m\u001b[0;34m\u001b[0m\u001b[0;34m\u001b[0m\u001b[0m\n\u001b[0;32m---> 27\u001b[0;31m     \u001b[0mall_files\u001b[0m \u001b[0;34m=\u001b[0m \u001b[0m_get_signalfname\u001b[0m\u001b[0;34m(\u001b[0m\u001b[0mfilepath\u001b[0m\u001b[0;34m)\u001b[0m\u001b[0;34m\u001b[0m\u001b[0;34m\u001b[0m\u001b[0m\n\u001b[0m\u001b[1;32m     28\u001b[0m     \u001b[0meeg_file\u001b[0m \u001b[0;34m=\u001b[0m \u001b[0mall_files\u001b[0m\u001b[0;34m[\u001b[0m\u001b[0;34m'EEG'\u001b[0m\u001b[0;34m]\u001b[0m\u001b[0;34m[\u001b[0m\u001b[0;34m'signal'\u001b[0m\u001b[0;34m]\u001b[0m\u001b[0;34m\u001b[0m\u001b[0;34m\u001b[0m\u001b[0m\n\u001b[1;32m     29\u001b[0m     \u001b[0meeg_info_file\u001b[0m \u001b[0;34m=\u001b[0m \u001b[0mall_files\u001b[0m\u001b[0;34m[\u001b[0m\u001b[0;34m'EEG'\u001b[0m\u001b[0;34m]\u001b[0m\u001b[0;34m[\u001b[0m\u001b[0;34m'info'\u001b[0m\u001b[0;34m]\u001b[0m\u001b[0;34m\u001b[0m\u001b[0;34m\u001b[0m\u001b[0m\n",
      "\u001b[0;32m/usr/local/lib/python3.8/dist-packages/mne/io/egi/general.py\u001b[0m in \u001b[0;36m_get_signalfname\u001b[0;34m(filepath)\u001b[0m\n\u001b[1;32m    125\u001b[0m \u001b[0;32mdef\u001b[0m \u001b[0m_get_signalfname\u001b[0m\u001b[0;34m(\u001b[0m\u001b[0mfilepath\u001b[0m\u001b[0;34m)\u001b[0m\u001b[0;34m:\u001b[0m\u001b[0;34m\u001b[0m\u001b[0;34m\u001b[0m\u001b[0m\n\u001b[1;32m    126\u001b[0m     \u001b[0;34m\"\"\"Get filenames.\"\"\"\u001b[0m\u001b[0;34m\u001b[0m\u001b[0;34m\u001b[0m\u001b[0m\n\u001b[0;32m--> 127\u001b[0;31m     \u001b[0mlistfiles\u001b[0m \u001b[0;34m=\u001b[0m \u001b[0mos\u001b[0m\u001b[0;34m.\u001b[0m\u001b[0mlistdir\u001b[0m\u001b[0;34m(\u001b[0m\u001b[0mfilepath\u001b[0m\u001b[0;34m)\u001b[0m\u001b[0;34m\u001b[0m\u001b[0;34m\u001b[0m\u001b[0m\n\u001b[0m\u001b[1;32m    128\u001b[0m     binfiles = list(f for f in listfiles if 'signal' in f and\n\u001b[1;32m    129\u001b[0m                     f[-4:] == '.bin' and f[0] != '.')\n",
      "\u001b[0;31mFileNotFoundError\u001b[0m: [Errno 2] No such file or directory: 'NDA1.mff'"
     ]
    }
   ],
   "source": [
    "\"\"\" \n",
    "Acquire a filename to be read EGI data from, and then plot the raw EGI data\n",
    "Make sure you have the file available to be read from.  \n",
    "\"\"\"\n",
    "fname = \"NDA1.mff\"\n",
    "raw = preprocessing.read_raw(fname)\n",
    "raw.plot()\n",
    "print('\\n\\n')\n",
    "raw.get_data()\n",
    "\n"
   ]
  },
  {
   "cell_type": "code",
   "execution_count": 3,
   "metadata": {},
   "outputs": [
    {
     "output_type": "error",
     "ename": "NameError",
     "evalue": "name 'raw' is not defined",
     "traceback": [
      "\u001b[0;31m---------------------------------------------------------------------------\u001b[0m",
      "\u001b[0;31mNameError\u001b[0m                                 Traceback (most recent call last)",
      "\u001b[0;32m<ipython-input-3-cb60cb2bb565>\u001b[0m in \u001b[0;36m<module>\u001b[0;34m\u001b[0m\n\u001b[1;32m      1\u001b[0m \u001b[0;31m# Use the aggregate stimulation channel 'STI 014' to create an events structure\u001b[0m\u001b[0;34m\u001b[0m\u001b[0;34m\u001b[0m\u001b[0;34m\u001b[0m\u001b[0m\n\u001b[1;32m      2\u001b[0m events = mne.find_events(\n\u001b[0;32m----> 3\u001b[0;31m     \u001b[0mraw\u001b[0m\u001b[0;34m,\u001b[0m\u001b[0;34m\u001b[0m\u001b[0;34m\u001b[0m\u001b[0m\n\u001b[0m\u001b[1;32m      4\u001b[0m     \u001b[0mstim_channel\u001b[0m\u001b[0;34m=\u001b[0m\u001b[0;34m\"STI 014\"\u001b[0m\u001b[0;34m,\u001b[0m\u001b[0;34m\u001b[0m\u001b[0;34m\u001b[0m\u001b[0m\n\u001b[1;32m      5\u001b[0m     \u001b[0mshortest_event\u001b[0m\u001b[0;34m=\u001b[0m\u001b[0;36m1\u001b[0m\u001b[0;34m\u001b[0m\u001b[0;34m\u001b[0m\u001b[0m\n",
      "\u001b[0;31mNameError\u001b[0m: name 'raw' is not defined"
     ]
    }
   ],
   "source": [
    "# Use the aggregate stimulation channel 'STI 014' to create an events structure\n",
    "events = mne.find_events(\n",
    "    raw, \n",
    "    stim_channel=\"STI 014\", \n",
    "    shortest_event=1\n",
    ") \n",
    "\n",
    "event_annotations = mne.annotations_from_events(\n",
    "        events=events,\n",
    "        sfreq=raw.info['sfreq'],\n",
    "        orig_time=raw.info['meas_date']\n",
    "    )\n",
    "\n",
    "# add annotations to existing annotations (the bad acquisition skips)\n",
    "# and keep only the EEG channels, removing the stimulation channels\n",
    "raw.set_annotations(raw.annotations + event_annotations)\n",
    "raw.pick_types(eeg=True)\n"
   ]
  },
  {
   "cell_type": "code",
   "execution_count": 3,
   "metadata": {},
   "outputs": [],
   "source": [
    "\"\"\" \n",
    "construct a proper bids_path where BIDS filename prefixes have one or more pieces of metadata in them. This will generate the prefix for a BIDS filename that can be used with many subsequent files, or you may also give a suffix that will then complete the file name.\n",
    "\"\"\"\n",
    "bids_path = BIDSPath(\n",
    "    subject=\"01\", \n",
    "    session=\"01\",\n",
    "    task=\"testing\",\n",
    "    run=\"01\", \n",
    "    root=\"~/\"\n",
    ")"
   ]
  },
  {
   "cell_type": "code",
   "execution_count": 4,
   "metadata": {},
   "outputs": [
    {
     "output_type": "stream",
     "name": "stdout",
     "text": [
      "Opening raw data file raw.fif...\n",
      "Isotrak not found\n",
      "    Range : 0 ... 2891584 =      0.000 ...  5783.168 secs\n",
      "Ready.\n",
      "\n",
      "Writing '~/README'...\n",
      "\n",
      "References\n",
      "----------\n",
      "Appelhoff, S., Sanderson, M., Brooks, T., Vliet, M., Quentin, R., Holdgraf, C., Chaumon, M., Mikulan, E., Tavabi, K., Höchenberger, R., Welke, D., Brunner, C., Rockhill, A., Larson, E., Gramfort, A. and Jas, M. (2019). MNE-BIDS: Organizing electrophysiological data into the BIDS format and facilitating their analysis. Journal of Open Source Software 4: (1896). https://doi.org/10.21105/joss.01896\n",
      "\n",
      "Pernet, C. R., Appelhoff, S., Gorgolewski, K. J., Flandin, G., Phillips, C., Delorme, A., Oostenveld, R. (2019). EEG-BIDS, an extension to the brain imaging data structure for electroencephalography. Scientific Data, 6, 103. https://doi.org/10.1038/s41597-019-0104-8\n",
      "\n",
      "\n",
      "Writing '~/participants.tsv'...\n",
      "\n",
      "participant_id\tage\tsex\thand\n",
      "sub-01\tn/a\tn/a\tn/a\n",
      "\n",
      "Writing '~/participants.json'...\n",
      "\n",
      "{\n",
      "    \"participant_id\": {\n",
      "        \"Description\": \"Unique participant identifier\"\n",
      "    },\n",
      "    \"age\": {\n",
      "        \"Description\": \"Age of the participant at time of testing\",\n",
      "        \"Units\": \"years\"\n",
      "    },\n",
      "    \"sex\": {\n",
      "        \"Description\": \"Biological sex of the participant\",\n",
      "        \"Levels\": {\n",
      "            \"F\": \"female\",\n",
      "            \"M\": \"male\"\n",
      "        }\n",
      "    },\n",
      "    \"hand\": {\n",
      "        \"Description\": \"Handedness of the participant\",\n",
      "        \"Levels\": {\n",
      "            \"R\": \"right\",\n",
      "            \"L\": \"left\",\n",
      "            \"A\": \"ambidextrous\"\n",
      "        }\n",
      "    }\n",
      "}\n",
      "\n",
      "Writing '~/sub-01/ses-01/eeg/sub-01_ses-01_task-testing_run-01_events.tsv'...\n",
      "\n",
      "onset\tduration\ttrial_type\tvalue\tsample\n",
      "407.606\t160.35400390625\tBAD_ACQ_SKIP\t1\t203803\n",
      "1085.572\t105.1500244140625\tBAD_ACQ_SKIP\t1\t542786\n",
      "1749.886\t3.8499755859375\tBAD_ACQ_SKIP\t1\t874943\n",
      "2312.85\t213.40185546875\tBAD_ACQ_SKIP\t1\t1156425\n",
      "2821.358\t16.052001953125\tBAD_ACQ_SKIP\t1\t1410679\n",
      "\n",
      "Writing '~/dataset_description.json'...\n",
      "\n",
      "{\n",
      "    \"Name\": \" \",\n",
      "    \"BIDSVersion\": \"1.4.0\",\n",
      "    \"DatasetType\": \"raw\",\n",
      "    \"Authors\": [\n",
      "        \"Please cite MNE-BIDS in your publication before removing this (citations in README)\"\n",
      "    ]\n",
      "}\n",
      "Reading 0 ... 2891584  =      0.000 ...  5783.168 secs...\n",
      "\n",
      "Writing '~/sub-01/ses-01/eeg/sub-01_ses-01_task-testing_run-01_eeg.json'...\n",
      "\n",
      "{\n",
      "    \"TaskName\": \"testing\",\n",
      "    \"Manufacturer\": \"Elekta\",\n",
      "    \"PowerLineFrequency\": 60,\n",
      "    \"SamplingFrequency\": 500.0,\n",
      "    \"SoftwareFilters\": \"n/a\",\n",
      "    \"RecordingDuration\": 5783.168,\n",
      "    \"RecordingType\": \"continuous\",\n",
      "    \"EEGReference\": \"n/a\",\n",
      "    \"EEGGround\": \"n/a\",\n",
      "    \"EEGPlacementScheme\": \"n/a\",\n",
      "    \"EEGChannelCount\": 129,\n",
      "    \"EOGChannelCount\": 0,\n",
      "    \"ECGChannelCount\": 0,\n",
      "    \"EMGChannelCount\": 0,\n",
      "    \"MiscChannelCount\": 0,\n",
      "    \"TriggerChannelCount\": 46\n",
      "}\n",
      "\n",
      "Writing '~/sub-01/ses-01/eeg/sub-01_ses-01_task-testing_run-01_channels.tsv'...\n",
      "\n",
      "name\ttype\tunits\tlow_cutoff\thigh_cutoff\tdescription\tsampling_frequency\tstatus\tstatus_description\n",
      "E1\tEEG\tV\t0.0\t250.0\tElectroEncephaloGram\t500.0\tgood\tn/a\n",
      "E2\tEEG\tV\t0.0\t250.0\tElectroEncephaloGram\t500.0\tgood\tn/a\n",
      "E3\tEEG\tV\t0.0\t250.0\tElectroEncephaloGram\t500.0\tgood\tn/a\n",
      "E4\tEEG\tV\t0.0\t250.0\tElectroEncephaloGram\t500.0\tgood\tn/a\n",
      "E5\tEEG\tV\t0.0\t250.0\tElectroEncephaloGram\t500.0\tgood\tn/a\n",
      "/home/ubuntu/.local/lib/python3.8/site-packages/mne_bids/write.py:1272: RuntimeWarning: Converting data files to BrainVision format\n",
      "  warn('Converting data files to BrainVision format')\n"
     ]
    },
    {
     "output_type": "error",
     "ename": "ImportError",
     "evalue": "pybv >=0.4 is required for converting file to BrainVision format",
     "traceback": [
      "\u001b[0;31m---------------------------------------------------------------------------\u001b[0m",
      "\u001b[0;31mImportError\u001b[0m                               Traceback (most recent call last)",
      "\u001b[0;32m<ipython-input-4-2ee901d51db3>\u001b[0m in \u001b[0;36m<module>\u001b[0;34m\u001b[0m\n\u001b[1;32m      5\u001b[0m \u001b[0;31m# PowerLineFrequency parameter is required in the sidecar files.\u001b[0m\u001b[0;34m\u001b[0m\u001b[0;34m\u001b[0m\u001b[0;34m\u001b[0m\u001b[0m\n\u001b[1;32m      6\u001b[0m \u001b[0mraw\u001b[0m\u001b[0;34m.\u001b[0m\u001b[0minfo\u001b[0m\u001b[0;34m[\u001b[0m\u001b[0;34m'line_freq'\u001b[0m\u001b[0;34m]\u001b[0m \u001b[0;34m=\u001b[0m \u001b[0;36m60\u001b[0m\u001b[0;34m\u001b[0m\u001b[0;34m\u001b[0m\u001b[0m\n\u001b[0;32m----> 7\u001b[0;31m \u001b[0mbids\u001b[0m \u001b[0;34m=\u001b[0m \u001b[0mpreprocessing\u001b[0m\u001b[0;34m.\u001b[0m\u001b[0mwrite_bids\u001b[0m\u001b[0;34m(\u001b[0m\u001b[0mraw\u001b[0m\u001b[0;34m,\u001b[0m \u001b[0mbids_path\u001b[0m\u001b[0;34m)\u001b[0m\u001b[0;34m\u001b[0m\u001b[0;34m\u001b[0m\u001b[0m\n\u001b[0m",
      "\u001b[0;32m~/baseEEG/base_eeg/preprocessing.py\u001b[0m in \u001b[0;36mwrite_bids\u001b[0;34m(raw, bids_path)\u001b[0m\n\u001b[1;32m     23\u001b[0m \u001b[0;34m\u001b[0m\u001b[0m\n\u001b[1;32m     24\u001b[0m \u001b[0;32mdef\u001b[0m \u001b[0mwrite_bids\u001b[0m\u001b[0;34m(\u001b[0m\u001b[0mraw\u001b[0m\u001b[0;34m,\u001b[0m \u001b[0mbids_path\u001b[0m\u001b[0;34m)\u001b[0m\u001b[0;34m:\u001b[0m\u001b[0;34m\u001b[0m\u001b[0;34m\u001b[0m\u001b[0m\n\u001b[0;32m---> 25\u001b[0;31m     return write_raw_bids(\n\u001b[0m\u001b[1;32m     26\u001b[0m         \u001b[0mraw\u001b[0m\u001b[0;34m,\u001b[0m\u001b[0;34m\u001b[0m\u001b[0;34m\u001b[0m\u001b[0m\n\u001b[1;32m     27\u001b[0m         \u001b[0mbids_path\u001b[0m\u001b[0;34m,\u001b[0m\u001b[0;34m\u001b[0m\u001b[0;34m\u001b[0m\u001b[0m\n",
      "\u001b[0;32m~/.local/lib/python3.8/site-packages/mne_bids/write.py\u001b[0m in \u001b[0;36mwrite_raw_bids\u001b[0;34m(***failed resolving arguments***)\u001b[0m\n\u001b[1;32m   1273\u001b[0m             \u001b[0mbids_path\u001b[0m\u001b[0;34m.\u001b[0m\u001b[0mupdate\u001b[0m\u001b[0;34m(\u001b[0m\u001b[0msuffix\u001b[0m\u001b[0;34m=\u001b[0m\u001b[0mbids_path\u001b[0m\u001b[0;34m.\u001b[0m\u001b[0mdatatype\u001b[0m\u001b[0;34m,\u001b[0m \u001b[0mextension\u001b[0m\u001b[0;34m=\u001b[0m\u001b[0;34m'.vhdr'\u001b[0m\u001b[0;34m)\u001b[0m\u001b[0;34m\u001b[0m\u001b[0;34m\u001b[0m\u001b[0m\n\u001b[1;32m   1274\u001b[0m             \u001b[0;31m# XXX Should we write durations here too?\u001b[0m\u001b[0;34m\u001b[0m\u001b[0;34m\u001b[0m\u001b[0;34m\u001b[0m\u001b[0m\n\u001b[0;32m-> 1275\u001b[0;31m             \u001b[0m_write_raw_brainvision\u001b[0m\u001b[0;34m(\u001b[0m\u001b[0mraw\u001b[0m\u001b[0;34m,\u001b[0m \u001b[0mbids_path\u001b[0m\u001b[0;34m.\u001b[0m\u001b[0mfpath\u001b[0m\u001b[0;34m,\u001b[0m \u001b[0mevents\u001b[0m\u001b[0;34m=\u001b[0m\u001b[0mevents_array\u001b[0m\u001b[0;34m)\u001b[0m\u001b[0;34m\u001b[0m\u001b[0;34m\u001b[0m\u001b[0m\n\u001b[0m\u001b[1;32m   1276\u001b[0m     \u001b[0;32melif\u001b[0m \u001b[0mext\u001b[0m \u001b[0;34m==\u001b[0m \u001b[0;34m'.fif'\u001b[0m\u001b[0;34m:\u001b[0m\u001b[0;34m\u001b[0m\u001b[0;34m\u001b[0m\u001b[0m\n\u001b[1;32m   1277\u001b[0m         \u001b[0m_write_raw_fif\u001b[0m\u001b[0;34m(\u001b[0m\u001b[0mraw\u001b[0m\u001b[0;34m,\u001b[0m \u001b[0mbids_path\u001b[0m\u001b[0;34m)\u001b[0m\u001b[0;34m\u001b[0m\u001b[0;34m\u001b[0m\u001b[0m\n",
      "\u001b[0;32m~/.local/lib/python3.8/site-packages/mne_bids/write.py\u001b[0m in \u001b[0;36m_write_raw_brainvision\u001b[0;34m(raw, bids_fname, events)\u001b[0m\n\u001b[1;32m    754\u001b[0m     \"\"\"\n\u001b[1;32m    755\u001b[0m     \u001b[0;32mif\u001b[0m \u001b[0;32mnot\u001b[0m \u001b[0mcheck_version\u001b[0m\u001b[0;34m(\u001b[0m\u001b[0;34m'pybv'\u001b[0m\u001b[0;34m,\u001b[0m \u001b[0;34m'0.4'\u001b[0m\u001b[0;34m)\u001b[0m\u001b[0;34m:\u001b[0m  \u001b[0;31m# pragma: no cover\u001b[0m\u001b[0;34m\u001b[0m\u001b[0;34m\u001b[0m\u001b[0m\n\u001b[0;32m--> 756\u001b[0;31m         raise ImportError('pybv >=0.4 is required for converting '\n\u001b[0m\u001b[1;32m    757\u001b[0m                           'file to BrainVision format')\n\u001b[1;32m    758\u001b[0m     \u001b[0;32mfrom\u001b[0m \u001b[0mpybv\u001b[0m \u001b[0;32mimport\u001b[0m \u001b[0mwrite_brainvision\u001b[0m\u001b[0;34m\u001b[0m\u001b[0;34m\u001b[0m\u001b[0m\n",
      "\u001b[0;31mImportError\u001b[0m: pybv >=0.4 is required for converting file to BrainVision format"
     ]
    }
   ],
   "source": [
    "\"\"\"\n",
    "Save raw data to a BIDS-compliant folder structure \n",
    "\"\"\"\n",
    "\n",
    "# PowerLineFrequency parameter is required in the sidecar files.\n",
    "raw.info['line_freq'] = 60\n",
    "bids = preprocessing.write_bids(raw, bids_path)"
   ]
  }
 ]
}